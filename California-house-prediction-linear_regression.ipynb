{
  "cells": [
    {
      "cell_type": "markdown",
      "metadata": {
        "id": "view-in-github",
        "colab_type": "text"
      },
      "source": [
        "<a href=\"https://colab.research.google.com/github/canzorlu-eng/Machine-Learning/blob/main/California-house-prediction-linear_regression.ipynb\" target=\"_parent\"><img src=\"https://colab.research.google.com/assets/colab-badge.svg\" alt=\"Open In Colab\"/></a>"
      ]
    },
    {
      "cell_type": "markdown",
      "source": [
        "# Yeni Bölüm"
      ],
      "metadata": {
        "id": "DCmgK6dMenyW"
      }
    },
    {
      "cell_type": "code",
      "source": [
        "import numpy as np\n",
        "import pandas as pd\n",
        "from collections import Counter\n",
        "from sklearn.model_selection import train_test_split\n",
        "from sklearn.datasets import fetch_california_housing\n",
        "from sklearn.preprocessing import StandardScaler\n",
        "\n",
        "data=fetch_california_housing()\n",
        "X=data.data\n",
        "y=data.target\n",
        "\n",
        "X_train, X_test, y_train, y_test = train_test_split(X, y, test_size=0.2, random_state=42)\n",
        "\n",
        "scaler = StandardScaler()\n",
        "X_train = scaler.fit_transform(X_train)\n",
        "X_test = scaler.transform(X_test)\n",
        "\n",
        "\n",
        "class LinearRegression:\n",
        "  def __init__(self) -> None:\n",
        "    self.w = None\n",
        "    self.b = 0.0\n",
        "\n",
        "\n",
        "  def fit(self, X, y, epochs=1000, lr=0.01):\n",
        "    n_samples, n_features = X.shape\n",
        "    self.w = np.zeros(n_features)\n",
        "    self.b = 0.0\n",
        "\n",
        "    for _ in range(epochs):\n",
        "        y_pred = self.predict(X)\n",
        "        dw = -(2/n_samples) * X.T.dot(y - y_pred)\n",
        "        db = -(2/n_samples) * np.sum(y - y_pred)\n",
        "        self.w -= lr * dw\n",
        "        self.b -= lr * db\n",
        "\n",
        "\n",
        "  def predict(self,X):\n",
        "    y_pred = X.dot(self.w) + self.b\n",
        "    return np.array(y_pred)\n",
        "\n",
        "  def mse(self, X, y):\n",
        "    y_pred = self.predict(X)\n",
        "    return np.mean((y_pred - y) ** 2)\n",
        "\n",
        "\n",
        "\n",
        "\n",
        "\n",
        "\n",
        "model=LinearRegression()\n",
        "model.fit(X_train, y_train, epochs=5000, lr=0.05)\n",
        "predictions=model.predict(X_test)\n",
        "\n",
        "mse = np.mean((predictions - y_test)**2)   # Mean Squared Error\n",
        "rmse = np.sqrt(mse)                        # Root Mean Squared Error\n",
        "\n",
        "train_mse = model.mse(X_train, y_train)\n",
        "test_mse = model.mse(X_test, y_test)\n",
        "\n",
        "\n",
        "print(\"preds: \",predictions[:10])\n",
        "print(\"real: \",y_test[:10])\n",
        "print(\"mse: \",mse)\n",
        "print(\"rmse: \",rmse)\n",
        "print(\"train mse: \",train_mse)\n",
        "print(\"test mse: \",test_mse)"
      ],
      "metadata": {
        "id": "zpw0-v-6ep_M",
        "outputId": "60086ea9-a681-48d6-b662-72a4cadab0a7",
        "colab": {
          "base_uri": "https://localhost:8080/"
        }
      },
      "execution_count": 23,
      "outputs": [
        {
          "output_type": "stream",
          "name": "stdout",
          "text": [
            "preds:  [0.73044235 1.75506423 2.67574887 2.84668118 2.61213419 2.02194042\n",
            " 2.6493612  2.17096559 2.72439829 3.91551736]\n",
            "real:  [0.477   0.458   5.00001 2.186   2.78    1.587   1.982   1.575   3.4\n",
            " 4.466  ]\n",
            "mse:  0.5590019245034249\n",
            "rmse:  0.7476643127122123\n",
            "train mse:  0.5205320252001897\n",
            "test mse:  0.5590019245034249\n"
          ]
        }
      ]
    }
  ],
  "metadata": {
    "colab": {
      "name": "Colab'e hoş geldiniz.",
      "provenance": [],
      "include_colab_link": true
    },
    "kernelspec": {
      "display_name": "Python 3",
      "name": "python3"
    }
  },
  "nbformat": 4,
  "nbformat_minor": 0
}